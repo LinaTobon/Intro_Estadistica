{
  "nbformat": 4,
  "nbformat_minor": 0,
  "metadata": {
    "colab": {
      "provenance": [],
      "authorship_tag": "ABX9TyPWhkZxmGA7T2LN55X0xkdK",
      "include_colab_link": true
    },
    "kernelspec": {
      "name": "python3",
      "display_name": "Python 3"
    },
    "language_info": {
      "name": "python"
    }
  },
  "cells": [
    {
      "cell_type": "markdown",
      "metadata": {
        "id": "view-in-github",
        "colab_type": "text"
      },
      "source": [
        "<a href=\"https://colab.research.google.com/github/LinaTobon/Intro_Estadistica/blob/main/10DaysOfStatistics.ipynb\" target=\"_parent\"><img src=\"https://colab.research.google.com/assets/colab-badge.svg\" alt=\"Open In Colab\"/></a>"
      ]
    },
    {
      "cell_type": "markdown",
      "metadata": {
        "id": "KFToZihnGSHh"
      },
      "source": [
        "# 10 cosas que no olvidaré después de **10DaysOfStatistics** !\n",
        "\n"
      ]
    },
    {
      "cell_type": "markdown",
      "metadata": {
        "id": "cKI3J4eOGzp8"
      },
      "source": [
        "Este un resumen de los aspectos teóricos mas importantes, que se abordan en el reto. Enjoy it!"
      ]
    },
    {
      "cell_type": "markdown",
      "metadata": {
        "id": "QgtCNNInHb4x"
      },
      "source": [
        "## **1.**Medidas de tendencia central\n",
        "Son medidas a lo largo del eje horizontal que localizan el\n",
        "centro de la distribución. \n",
        "\n",
        "1.   Media: promedio de las mediciones\n",
        "2.   Moda: es la categoría que se presenta con más frecuencia\n",
        "3.   Mediana : La mediana m de un conjunto de n mediciones es el valor de x que cae en la posición media cuando las mediciones son ordenadas de menor a mayor.Aunque tanto la media como la mediana son buenas medidas del centro de una distribución, la mediana es menos sensible a valores extremos o resultados atípicos\n",
        "\n",
        "\n",
        "\n"
      ]
    },
    {
      "cell_type": "markdown",
      "metadata": {
        "id": "AHNKNz_0sP2L"
      },
      "source": [
        "*Nota: Las mediciones descriptivas numéricas asociadas con una población de mediciones se llaman parámetros; las calculadas a partir de mediciones muestrales reciben el nombre de estadísticas.*\n"
      ]
    },
    {
      "cell_type": "markdown",
      "metadata": {
        "id": "r7qq0NSMtSfg"
      },
      "source": [
        "*Nota: Cuando una distribución es simétrica, la media y la mediana son iguales. Si una distribución está fuertemente sesgada por uno o más valores extremos, se debe emplear la mediana en lugar de la media como medida de centro.*"
      ]
    },
    {
      "cell_type": "markdown",
      "metadata": {
        "id": "RmpEe-cy3Yq6"
      },
      "source": [
        "<iframe src=\"https://drive.google.com/file/d/1MVCnSQlrJoTLWlt4Pt4eKSgbrO8wmqCt/preview\" width=\"640\" height=\"480\" allow=\"autoplay\"></iframe>"
      ]
    },
    {
      "cell_type": "code",
      "metadata": {
        "colab": {
          "base_uri": "https://localhost:8080/",
          "height": 205
        },
        "id": "1yxmDMHy3kjA",
        "outputId": "67f3ae33-0745-467c-e414-59e323609d35"
      },
      "source": [
        "%%html\n",
        "<iframe src=\"https://drive.google.com/file/d/1MVCnSQlrJoTLWlt4Pt4eKSgbrO8wmqCt/preview\" width=\"640\" height=\"180\" allow=\"autoplay\"></iframe>"
      ],
      "execution_count": null,
      "outputs": [
        {
          "output_type": "display_data",
          "data": {
            "text/html": [
              "<iframe src=\"https://drive.google.com/file/d/1MVCnSQlrJoTLWlt4Pt4eKSgbrO8wmqCt/preview\" width=\"640\" height=\"180\" allow=\"autoplay\"></iframe>"
            ],
            "text/plain": [
              "<IPython.core.display.HTML object>"
            ]
          },
          "metadata": {}
        }
      ]
    },
    {
      "cell_type": "code",
      "metadata": {
        "id": "D_KuOYL9uEJO"
      },
      "source": [
        "#Ejercicio 1\n",
        "import numpy as np\n",
        "\n",
        "n = int(input())\n",
        "x = list(map(int,input().split()))\n",
        "media = np.sum(x)/n\n",
        "\n",
        "def mediana(array,n):\n",
        "  idx = n//2\n",
        "  if n%2>0:\n",
        "    r = sorted(array)[idx]\n",
        "  else:\n",
        "    r = sum(sorted(array)[idx-1:idx+1])/2\n",
        "  return r\n",
        "\n",
        "def moda(array):\n",
        "  most = max(list(map(array.count, array)))\n",
        "  return min(list(set(filter(lambda x: array.count(x) == most, array))))\n",
        "  \n",
        "print(media,mediana(x,n),moda(x),sep='\\n')"
      ],
      "execution_count": null,
      "outputs": []
    },
    {
      "cell_type": "code",
      "metadata": {
        "id": "Fsc10-OB1p_O"
      },
      "source": [
        "#Ejercicio2\n",
        "#!/bin/python3\n",
        "\n",
        "import math\n",
        "import os\n",
        "import random\n",
        "import re\n",
        "import sys\n",
        "\n",
        "#\n",
        "# Complete the 'weightedMean' function below.\n",
        "#\n",
        "# The function accepts following parameters:\n",
        "#  1. INTEGER_ARRAY X\n",
        "#  2. INTEGER_ARRAY W\n",
        "#\n",
        "\n",
        "def weightedMean(X, W):\n",
        "    print(round(sum([X[i]*W[i] for i in range(len(W))])/sum(W),1))\n",
        "\n",
        "\n",
        "if __name__ == '__main__':\n",
        "    n = int(input().strip())\n",
        "\n",
        "    vals = list(map(int, input().rstrip().split()))\n",
        "\n",
        "    weights = list(map(int, input().rstrip().split()))\n",
        "\n",
        "    weightedMean(vals, weights)"
      ],
      "execution_count": null,
      "outputs": []
    },
    {
      "cell_type": "markdown",
      "metadata": {
        "id": "AwTkRXBZ4Yhg"
      },
      "source": [
        "## **2.**Cuartiles\n",
        "los cuartiles dividen el set de datos en cuatro partes iguales.\n",
        "las observaciones arriba del tercer cuartil constituyen el cuarto superior \n",
        "\n",
        "*   Q1: es el valor de x que es mayor al 25%de los datos y es menor que el 75% restante\n",
        "*   Q2: igual a la Mediana, el 50% de los datos es mayor o igual a este valor\n",
        "*   Q3: es el valor de x que es mayor al 75% de los datos y es menor que el restante un cuarto.\n",
        "\n",
        "EL rango Intercuartil Es una medida de dispersión que es resistente a los valores apartados. $IQR = Q3 -Q1 $\n",
        "  \n",
        "  Nota:   \n",
        "  Los valores atípicos son aquellos que se encuentran fuera de los límites inferiores y superiores:\n",
        "* $limite Inferior=Q1-1.5IQR$\n",
        "* $limite Superior=Q3-1.5IQR$. \n",
        "\n",
        "los valores extremos se encuentran a mas de $3*IQR$ el cuarto más cercano."
      ]
    },
    {
      "cell_type": "code",
      "metadata": {
        "colab": {
          "base_uri": "https://localhost:8080/",
          "height": 325
        },
        "id": "pFVzTkjy7kae",
        "outputId": "e282178e-5576-4f7f-f490-03c9c6d93ea4"
      },
      "source": [
        "%%html\n",
        "<iframe src=\"https://drive.google.com/file/d/1BniQOL6JltGqtH3L8BCKOCARlv600giY/preview\" width=\"300\" height=\"300\" allow=\"autoplay\"></iframe>"
      ],
      "execution_count": null,
      "outputs": [
        {
          "output_type": "display_data",
          "data": {
            "text/html": [
              "<iframe src=\"https://drive.google.com/file/d/1BniQOL6JltGqtH3L8BCKOCARlv600giY/preview\" width=\"300\" height=\"300\" allow=\"autoplay\"></iframe>"
            ],
            "text/plain": [
              "<IPython.core.display.HTML object>"
            ]
          },
          "metadata": {}
        }
      ]
    },
    {
      "cell_type": "code",
      "metadata": {
        "id": "WEilHfJn8u5J"
      },
      "source": [
        "#Ejercicio3\n",
        "#!/bin/python3\n",
        "\n",
        "import math\n",
        "import os\n",
        "import random\n",
        "import re\n",
        "import sys\n",
        "\n",
        "#\n",
        "# Complete the 'quartiles' function below.\n",
        "#\n",
        "# The function is expected to return an INTEGER_ARRAY.\n",
        "# The function accepts INTEGER_ARRAY arr as parameter.\n",
        "#\n",
        "\n",
        "def quartiles(arr):\n",
        "    arr.sort()\n",
        "    idx = n//2\n",
        "\n",
        "    def mediana(array):\n",
        "      idx1 = len(array)//2\n",
        "      if len(array)%2:\n",
        "        p50 = array[idx1]\n",
        "      else:\n",
        "        p50 = int(sum(array[idx1-1:idx1+1])/2)\n",
        "      return p50\n",
        "   \n",
        "      \n",
        "    if n%2:\n",
        "      l = arr[:idx]\n",
        "      u = arr[idx+1:]\n",
        "\n",
        "    else:\n",
        "      l = arr[:idx]\n",
        "      u = arr[idx:]\n",
        "      \n",
        "    q1 = mediana(l)\n",
        "    q2 = mediana(arr)\n",
        "    q3 = mediana(u)\n",
        "    return q1,q2,q3\n",
        "    \n",
        "if __name__ == '__main__':\n",
        "    fptr = open(os.environ['OUTPUT_PATH'], 'w')\n",
        "\n",
        "    n = int(input().strip())\n",
        "\n",
        "    data = list(map(int, input().rstrip().split()))\n",
        "\n",
        "    res = quartiles(data)\n",
        " \n",
        "\n",
        "    fptr.write('\\n'.join(map(str, res)))\n",
        "    fptr.write('\\n')\n",
        "\n",
        "    fptr.close()\n"
      ],
      "execution_count": null,
      "outputs": []
    },
    {
      "cell_type": "markdown",
      "metadata": {
        "id": "t-xtrFui9OZC"
      },
      "source": [
        "# 3. Varianza y desviación Estándar\n",
        "La varianza de una población de N mediciones es el promedio de los cuadrados de las desviaciones de las mediciones alrededor de su media.\n"
      ]
    },
    {
      "cell_type": "markdown",
      "metadata": {
        "id": "d7mB8KA1ILkw"
      },
      "source": [
        "\\begin{align}\n",
        "     \\sigma^2= \\frac{{\\sum_{i=1}^n(x_i-\\mu)}^2}{N}\n",
        "    \\end{align}\n",
        "\n",
        "\\begin{align}\n",
        "     s^2= \\frac{{\\sum_{i=1}^n(x_i-\\bar{x})}^2}{n-1}\n",
        "    \\end{align}\n"
      ]
    },
    {
      "cell_type": "markdown",
      "metadata": {
        "id": "OkWArEyhROFt"
      },
      "source": [
        "La desviación estándar es la raíz positiva de la varianza."
      ]
    },
    {
      "cell_type": "markdown",
      "metadata": {
        "id": "EAKZ6ojSQOfx"
      },
      "source": [
        "Nota: $S^2$ es un estimador insesgado; ya que su esperanza matemática es igual al parámetro que estima."
      ]
    },
    {
      "cell_type": "markdown",
      "metadata": {
        "id": "t-74Ag6lNtqi"
      },
      "source": [
        "### Propiedades de la varianza y desviacion estandar\n",
        "\n",
        "\n",
        "1.   Si a una variable la multiplicamos por una constante, tendremos que multiplicar la varianza (o desviación estandar) por esta constante al cuadrado $S{_Y}^2=a^2S{_X}^2$. para la desviacion estandar: $S{_Y}=|a|S{_X}^2$\n",
        "2.  Por otro lado, si le sumamos una constante, esto no afectará la varianza. $S{_Y}^2=S{_X}^2$. \n",
        "\n"
      ]
    },
    {
      "cell_type": "code",
      "metadata": {
        "id": "mRHTj6fx-_L7"
      },
      "source": [
        "#!/bin/python3\n",
        "\n",
        "import math\n",
        "import os\n",
        "import random\n",
        "import re\n",
        "import sys\n",
        "\n",
        "#\n",
        "# Complete the 'stdDev' function below.\n",
        "#\n",
        "# The function accepts INTEGER_ARRAY arr as parameter.\n",
        "#\n",
        "\n",
        "def stdDev(arr):\n",
        "    media = sum(arr)/len(arr)\n",
        "    std = round(math.sqrt(sum([(x-media)**2 for x in arr])/len(arr)),1)\n",
        "    print(std)\n",
        "\n",
        "if __name__ == '__main__':\n",
        "    n = int(input().strip())\n",
        "\n",
        "    vals = list(map(int, input().rstrip().split()))\n",
        "\n",
        "    stdDev(vals)"
      ],
      "execution_count": null,
      "outputs": []
    },
    {
      "cell_type": "markdown",
      "metadata": {
        "id": "4TL1EWM8N45o"
      },
      "source": [
        "\n",
        "\n",
        "\n",
        "\n",
        "## Permutacion\n",
        "El número de formas en que podemos acomodar n objetos distintos, tomándolos una cantidad r a la vez, tomando en cuenta el orden de los elementos. $P_{r}^{n} = \\frac{n!}{(n-r)!}$\n",
        "\n",
        "## Combinacion\n",
        "El número de combinaciones distintas de n objetos distintos que se pueden formar, tomando r de ellos a un tiempo.   \n",
        "$C_{r}^{n} = \\frac{n!}{r!(n-r)!}$.  \n",
        "\n",
        "$C_{r}^{n} = \\frac{P_{r}^{n}}{r!}$ \n",
        "\n",
        "Se puede ver que la combinación resulta cuando se divide el número de permutaciones entre r!, el número de formas de reacomodar cada grupo distinto de r objetos escogidos de entre el total n."
      ]
    },
    {
      "cell_type": "markdown",
      "metadata": {
        "id": "w5-ZttxPenLQ"
      },
      "source": [
        "###  *You draw  cards from a standard -card deck without replacing them. What is the probability that both cards are of the same suit?*\n",
        "\n",
        "**Respuesta**. \n",
        "\n",
        "Un deck de cartas tiene en total 52 cartas, divididas en  4 suits, cada una de 13 cartas. Por lo tanto, podríamos abordar el ejercicio hayando cuántas combinaciones de 2 cartas se pueden obtener por cada set, respecto al número total de combinaciones de dos cartas se pueden obtener en todo el deck.  \n",
        "$P(A) = \\frac{4*C_{2}^{13}}{C_{2}^{52}}$.  \n",
        "\n",
        "$C_{2}^{13} = \\frac{13!}{2!(11)!}=\\frac{13x12}{2}=78$.   \n",
        "\n",
        "$C_{2}^{52} = \\frac{52!}{2!(50)!} = \\frac{52x51}{2} = 1326$.   \n",
        "\n",
        "$P(A) = \\frac{4*78}{1326}=\\frac{12}{51}$. "
      ]
    },
    {
      "cell_type": "markdown",
      "metadata": {
        "id": "NdCzejkBcCpX"
      },
      "source": [
        "# 4.Probabilidad\n",
        "## Reglas de la probabilidad\n",
        "\n",
        "\n",
        "*   La unión de los eventos A y B, denotada por $A \\bigcup  B$, es el evento en que ocurren A o B o ambos. La probabilidad de A unido B es igual a $P(A \\bigcup  B) = P(A)+ P(B)-P(A\\bigcap B)$.  \n",
        "\n",
        "    Cuando dos eventos A y B son mutuamente excluyentes, entonces P(A 􏱌 B) 􏰀 0 y la Regla de la adición se simplifica a$P(A \\bigcup  B) = P(A)+ P(B)$.  \n",
        "\n",
        "\n",
        "*   La intersección de eventos A y B, denotada por $A \\bigcap B$, es el evento en que ocurren A y B."
      ]
    },
    {
      "cell_type": "markdown",
      "metadata": {
        "id": "RfK_XVcIOUga"
      },
      "source": [
        "## Probabilidad condicional\n",
        "Es la probabilidad de un evento A, dado que el evento B ha ocurrido\n",
        "\n",
        "\n",
        "$P(A \\bigcap B) = P(A)*P(B|A)$.   \n",
        "\n",
        "$P(A|B)=\\frac{P(A\\bigcap B)}{P(B)}$\n",
        "\n",
        "## Independecia\n",
        "Se dice que dos eventos, A y B, son independientes si la probabilidad del evento B no está influenciada o cambiada por el suceso del evento A, o viceversa.\n",
        "\n",
        "Cuando dos eventos son independientes:  \n",
        "$P(A|B)=\\frac{P(A)}{P(B)}$"
      ]
    },
    {
      "cell_type": "markdown",
      "metadata": {
        "id": "AK8esyeYcPH4"
      },
      "source": [
        "### *In a single toss of 2 fair (evenly-weighted) six-sided dice, find the probability that the values rolled by each die will be different and the two dice have a sum of 6*\n",
        "  \n",
        "Resultados posibles al tirar los dos dados. \n",
        "\n",
        "(1 1 - 1 2 - 1 3 - 1 4 - 1 5 -1 6). \n",
        "\n",
        "(2 1 - 2 2 - 2 3 - 2 4 - 2 5 -2 6). \n",
        "\n",
        "(3 1 - 3 2 - 3 3 - 3 4 - 3 5 -3 6).   \n",
        "\n",
        "(4 1 - 4 2 - 4 3 - 4 4 - 4 5 -4 6). \n",
        "\n",
        "(5 1 - 5 2 - 5 3 - 5 4 - 5 5 -5 6).   \n",
        "\n",
        "(6 1 - 6 2 - 6 3 - 6 4 - 6 5 -6 6). \n",
        "\n",
        "A = los valores de cada dado son diferentes. \n",
        "$P(A) = \\frac {30} {36}$. \n",
        "\n",
        "B = la suma de los valores de cada dado es 6. \n",
        "\n",
        "$P(A \\bigcap B) = P(A)*P(B|A)$.   \n",
        "\n",
        "\n",
        "\n",
        "\n"
      ]
    },
    {
      "cell_type": "code",
      "metadata": {
        "id": "JdOdtz8saTAF"
      },
      "source": [
        "## Ejercio\n",
        "# Suppose a family has 2 children, one of which is a boy. What is the probability that both children are boys?\n",
        "# B= la familia tiene un niño\n",
        "# A= Los dos niños son hombres\n",
        "H M\n",
        "M M\n",
        "H H\n",
        "\n",
        "P(A)=1/3\n",
        "P(AnB)=1/3\n",
        "P(A/B)=1/2\n",
        "P(B|A)=1"
      ],
      "execution_count": null,
      "outputs": []
    }
  ]
}