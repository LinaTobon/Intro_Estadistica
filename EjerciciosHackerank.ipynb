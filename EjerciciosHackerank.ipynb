{
  "nbformat": 4,
  "nbformat_minor": 0,
  "metadata": {
    "colab": {
      "provenance": [],
      "authorship_tag": "ABX9TyMzgQpxS9rjdJ9hr3rMFNLn",
      "include_colab_link": true
    },
    "kernelspec": {
      "name": "python3",
      "display_name": "Python 3"
    },
    "language_info": {
      "name": "python"
    }
  },
  "cells": [
    {
      "cell_type": "markdown",
      "metadata": {
        "id": "view-in-github",
        "colab_type": "text"
      },
      "source": [
        "<a href=\"https://colab.research.google.com/github/LinaTobon/Intro_Estadistica/blob/main/EjerciciosHackerank.ipynb\" target=\"_parent\"><img src=\"https://colab.research.google.com/assets/colab-badge.svg\" alt=\"Open In Colab\"/></a>"
      ]
    },
    {
      "cell_type": "markdown",
      "metadata": {
        "id": "OzKJyeU5DF5w"
      },
      "source": [
        "# hackerank\n"
      ]
    },
    {
      "cell_type": "code",
      "metadata": {
        "colab": {
          "base_uri": "https://localhost:8080/"
        },
        "id": "xseAIzM_DL8L",
        "outputId": "8fbe4f5e-07db-4f4b-e15f-2f9fffd29d69"
      },
      "source": [
        "def mediana(array,n):\n",
        "  idx = n//2\n",
        "  if n%2>0:\n",
        "    r = sorted(array)[idx]\n",
        "  else:\n",
        "    r = sum(sorted(array)[idx-1:idx+1])/2\n",
        "  return r\n"
      ],
      "execution_count": null,
      "outputs": [
        {
          "output_type": "stream",
          "name": "stdout",
          "text": [
            "3.5\n"
          ]
        }
      ]
    },
    {
      "cell_type": "code",
      "metadata": {
        "colab": {
          "base_uri": "https://localhost:8080/"
        },
        "id": "4_FBMGK3hFMe",
        "outputId": "78a98b32-d4cf-49ba-b248-e61140b79f1a"
      },
      "source": [
        "5//2"
      ],
      "execution_count": null,
      "outputs": [
        {
          "output_type": "execute_result",
          "data": {
            "text/plain": [
              "2"
            ]
          },
          "metadata": {},
          "execution_count": 13
        }
      ]
    },
    {
      "cell_type": "code",
      "metadata": {
        "colab": {
          "base_uri": "https://localhost:8080/"
        },
        "id": "vpsdeyG8O3r1",
        "outputId": "87672674-5514-4f4a-ee76-37d2804f30b3"
      },
      "source": [
        "def moda(array):\n",
        "  most = max(list(map(array.count, array)))\n",
        "  return min(list(set(filter(lambda x: array.count(x) == most, array))))\n",
        "\n",
        "\n",
        "\n",
        "print(moda([64630,11735,14216,99233,14470,4978,73429,38120,51135,67060]))"
      ],
      "execution_count": null,
      "outputs": [
        {
          "output_type": "stream",
          "name": "stdout",
          "text": [
            "4978\n"
          ]
        }
      ]
    },
    {
      "cell_type": "code",
      "metadata": {
        "id": "17O_SP6f7fgf"
      },
      "source": [
        "n = int(input())\n",
        "\n",
        "# This is ALMOST too much for 1-line but it's very readable\n",
        "#numbers = sorted([int(val) for val in input().split()])\n",
        "\n",
        "# But if you read up on \"generator expressions\":\n",
        "# This is slightly cleaner AND much better on memory usage\n",
        "numbers = sorted(int(val) for val in input().split())\n",
        "\n",
        "'''\n",
        "Create dictionary with numbers:frequency\n",
        "\n",
        "So we now know list comprehensions...\n",
        "...there are also \"dict comprehensions\"!\n",
        "\n",
        "I converted numbers to a \"set\" here because\n",
        "we don't need to loop over duplicates\n",
        "'''\n",
        "counts = {num: numbers.count(num) for num in set(numbers)}\n",
        "\n",
        "'''\n",
        "Find total and mean (improved for memory usage)\n",
        "'''\n",
        "totals = ((val * count) for val, count in counts.items())\n",
        "mean = sum(totals) / n\n",
        "\n",
        "# this would also work but it's almost too hard to read in 1-line\n",
        "#mean = sum(val * count for val, count in counts.items()) / n\n",
        "\n",
        "'''\n",
        "Find median\n",
        "\n",
        "I actually found a much cooler way after a little time.\n",
        "Python has a cool \"divmod\" builtin-function (Check it out!)\n",
        "It's perfect for this situation, and makes things MUCH\n",
        "more readable:\n",
        "'''\n",
        "middle, is_odd_length = divmod(n, 2)\n",
        "\n",
        "if is_odd_length:\n",
        "    median = numbers[middle]\n",
        "else:\n",
        "    median = (numbers[middle - 1] + numbers[middle]) / 2\n",
        "\n",
        "# this is what I WANT but just about too much for 1-line\n",
        "# SUPER cool for hackerrank ...not for people that have to maintain it in industry\n",
        "#median = numbers[middle] if is_odd_length else sum(numbers[middle-1:middle]) / 2\n",
        "    \n",
        "'''\n",
        "Find mode\n",
        "\n",
        "Honestly this is very good and performant.\n",
        "I did it a different way involved sorting by count, etc\n",
        "so I didn't have to manually step through in a for-loop\n",
        "but you can see other solutions for cool stuff.\n",
        "\n",
        "I think this is a solid bread-and-butter solution\n",
        "with no fancy bells or whistles ...in a good way\n",
        "'''\n",
        "freq = 0\n",
        "mode = 0\n",
        "for val, count in counts.items():\n",
        "    if count > freq:\n",
        "        mode = val\n",
        "        freq = count\n",
        "        \n",
        "    elif count == freq and val < mode:\n",
        "        mode = val\n",
        "\n",
        "print(mean)\n",
        "print(median)\n",
        "print(mode)"
      ],
      "execution_count": null,
      "outputs": []
    },
    {
      "cell_type": "code",
      "metadata": {
        "id": "dvnchnLh7gjY"
      },
      "source": [
        "import collections\n",
        "\n",
        "N = int(input())\n",
        "numbers = sorted(int(val) for val in input().split())\n",
        "counts = collections.Counter(numbers)\n",
        "\n",
        "# Find total and mean\n",
        "totals = (val * count for val, count in counts.items())\n",
        "mean = sum(totals) / N\n",
        "\n",
        "# Find median\n",
        "middle, is_odd_length = divmod(N, 2)\n",
        "if is_odd_length:\n",
        "    median = numbers[middle]\n",
        "    \n",
        "else:\n",
        "    median = (numbers[middle - 1] + numbers[middle]) / 2\n",
        "    \n",
        "# Find mode\n",
        "freq = 0\n",
        "mode = 0\n",
        "for val, count in counts.items():\n",
        "    if count > freq:\n",
        "        mode = val\n",
        "        freq = count\n",
        "        \n",
        "    elif count == freq and val < mode:\n",
        "        mode = val\n",
        "\n",
        "print(mean)\n",
        "print(median)\n",
        "print(mode)"
      ],
      "execution_count": null,
      "outputs": []
    },
    {
      "cell_type": "code",
      "metadata": {
        "id": "PbuBIvb882O_"
      },
      "source": [
        "def weightedMean(X, W):\n",
        "  n = len(X)\n",
        "  total = 0\n",
        "  for i in range(n):\n",
        "    total += X[i]*W[i]\n",
        "  return round(total/sum(W),1)\n"
      ],
      "execution_count": null,
      "outputs": []
    },
    {
      "cell_type": "code",
      "metadata": {
        "id": "IYwyp02p-s8c"
      },
      "source": [
        "r=[10,40,30,50,20,10,40,30,50,20]\n",
        "w =[1,2,3,4,5,6,7,8,9,10]\n",
        "#weightedMean(r, w)"
      ],
      "execution_count": null,
      "outputs": []
    },
    {
      "cell_type": "code",
      "metadata": {
        "colab": {
          "base_uri": "https://localhost:8080/"
        },
        "id": "aeeZ3Aeyjzqu",
        "outputId": "eb05a7db-e5e6-4b20-c9d0-c75374ee5f1d"
      },
      "source": [
        "producto =  round(sum([r[i]*w[i] for i in range(len(w))])/sum(w),1)\n",
        "print(producto)"
      ],
      "execution_count": null,
      "outputs": [
        {
          "output_type": "stream",
          "name": "stdout",
          "text": [
            "31.1\n"
          ]
        }
      ]
    },
    {
      "cell_type": "code",
      "metadata": {
        "colab": {
          "base_uri": "https://localhost:8080/",
          "height": 528
        },
        "id": "FnXhiblhA4WH",
        "outputId": "517fb2ea-a6b9-40eb-97c7-bb8900476b75"
      },
      "source": [
        "import math\n",
        "import os\n",
        "import random\n",
        "import re\n",
        "import sys\n",
        "\n",
        "#\n",
        "# Complete the 'stdDev' function below.\n",
        "#\n",
        "# The function accepts INTEGER_ARRAY arr as parameter.\n",
        "#\n",
        "\n",
        "def stdDev(arr):\n",
        "    media = sum(arr)/len(arr)\n",
        "    std = round(math.sqrt(sum([(x-media)**2 for x in arr])/len(arr)),1)\n",
        "    print(std)\n",
        "    \n",
        "\n",
        "if __name__ == '__main__':\n",
        "    n = int(input().strip())\n",
        "\n",
        "    vals = list(map(int, input().rstrip().split()))\n",
        "\n",
        "    stdDev(vals)\n"
      ],
      "execution_count": null,
      "outputs": [
        {
          "output_type": "error",
          "ename": "KeyboardInterrupt",
          "evalue": "ignored",
          "traceback": [
            "\u001b[0;31m---------------------------------------------------------------------------\u001b[0m",
            "\u001b[0;31mKeyboardInterrupt\u001b[0m                         Traceback (most recent call last)",
            "\u001b[0;32m/usr/local/lib/python3.7/dist-packages/ipykernel/kernelbase.py\u001b[0m in \u001b[0;36m_input_request\u001b[0;34m(self, prompt, ident, parent, password)\u001b[0m\n\u001b[1;32m    728\u001b[0m             \u001b[0;32mtry\u001b[0m\u001b[0;34m:\u001b[0m\u001b[0;34m\u001b[0m\u001b[0;34m\u001b[0m\u001b[0m\n\u001b[0;32m--> 729\u001b[0;31m                 \u001b[0mident\u001b[0m\u001b[0;34m,\u001b[0m \u001b[0mreply\u001b[0m \u001b[0;34m=\u001b[0m \u001b[0mself\u001b[0m\u001b[0;34m.\u001b[0m\u001b[0msession\u001b[0m\u001b[0;34m.\u001b[0m\u001b[0mrecv\u001b[0m\u001b[0;34m(\u001b[0m\u001b[0mself\u001b[0m\u001b[0;34m.\u001b[0m\u001b[0mstdin_socket\u001b[0m\u001b[0;34m,\u001b[0m \u001b[0;36m0\u001b[0m\u001b[0;34m)\u001b[0m\u001b[0;34m\u001b[0m\u001b[0;34m\u001b[0m\u001b[0m\n\u001b[0m\u001b[1;32m    730\u001b[0m             \u001b[0;32mexcept\u001b[0m \u001b[0mException\u001b[0m\u001b[0;34m:\u001b[0m\u001b[0;34m\u001b[0m\u001b[0;34m\u001b[0m\u001b[0m\n",
            "\u001b[0;32m/usr/local/lib/python3.7/dist-packages/jupyter_client/session.py\u001b[0m in \u001b[0;36mrecv\u001b[0;34m(self, socket, mode, content, copy)\u001b[0m\n\u001b[1;32m    802\u001b[0m         \u001b[0;32mtry\u001b[0m\u001b[0;34m:\u001b[0m\u001b[0;34m\u001b[0m\u001b[0;34m\u001b[0m\u001b[0m\n\u001b[0;32m--> 803\u001b[0;31m             \u001b[0mmsg_list\u001b[0m \u001b[0;34m=\u001b[0m \u001b[0msocket\u001b[0m\u001b[0;34m.\u001b[0m\u001b[0mrecv_multipart\u001b[0m\u001b[0;34m(\u001b[0m\u001b[0mmode\u001b[0m\u001b[0;34m,\u001b[0m \u001b[0mcopy\u001b[0m\u001b[0;34m=\u001b[0m\u001b[0mcopy\u001b[0m\u001b[0;34m)\u001b[0m\u001b[0;34m\u001b[0m\u001b[0;34m\u001b[0m\u001b[0m\n\u001b[0m\u001b[1;32m    804\u001b[0m         \u001b[0;32mexcept\u001b[0m \u001b[0mzmq\u001b[0m\u001b[0;34m.\u001b[0m\u001b[0mZMQError\u001b[0m \u001b[0;32mas\u001b[0m \u001b[0me\u001b[0m\u001b[0;34m:\u001b[0m\u001b[0;34m\u001b[0m\u001b[0;34m\u001b[0m\u001b[0m\n",
            "\u001b[0;32m/usr/local/lib/python3.7/dist-packages/zmq/sugar/socket.py\u001b[0m in \u001b[0;36mrecv_multipart\u001b[0;34m(self, flags, copy, track)\u001b[0m\n\u001b[1;32m    618\u001b[0m         \"\"\"\n\u001b[0;32m--> 619\u001b[0;31m         \u001b[0mparts\u001b[0m \u001b[0;34m=\u001b[0m \u001b[0;34m[\u001b[0m\u001b[0mself\u001b[0m\u001b[0;34m.\u001b[0m\u001b[0mrecv\u001b[0m\u001b[0;34m(\u001b[0m\u001b[0mflags\u001b[0m\u001b[0;34m,\u001b[0m \u001b[0mcopy\u001b[0m\u001b[0;34m=\u001b[0m\u001b[0mcopy\u001b[0m\u001b[0;34m,\u001b[0m \u001b[0mtrack\u001b[0m\u001b[0;34m=\u001b[0m\u001b[0mtrack\u001b[0m\u001b[0;34m)\u001b[0m\u001b[0;34m]\u001b[0m\u001b[0;34m\u001b[0m\u001b[0;34m\u001b[0m\u001b[0m\n\u001b[0m\u001b[1;32m    620\u001b[0m         \u001b[0;31m# have first part already, only loop while more to receive\u001b[0m\u001b[0;34m\u001b[0m\u001b[0;34m\u001b[0m\u001b[0;34m\u001b[0m\u001b[0m\n",
            "\u001b[0;32mzmq/backend/cython/socket.pyx\u001b[0m in \u001b[0;36mzmq.backend.cython.socket.Socket.recv\u001b[0;34m()\u001b[0m\n",
            "\u001b[0;32mzmq/backend/cython/socket.pyx\u001b[0m in \u001b[0;36mzmq.backend.cython.socket.Socket.recv\u001b[0;34m()\u001b[0m\n",
            "\u001b[0;32mzmq/backend/cython/socket.pyx\u001b[0m in \u001b[0;36mzmq.backend.cython.socket._recv_copy\u001b[0;34m()\u001b[0m\n",
            "\u001b[0;32m/usr/local/lib/python3.7/dist-packages/zmq/backend/cython/checkrc.pxd\u001b[0m in \u001b[0;36mzmq.backend.cython.checkrc._check_rc\u001b[0;34m()\u001b[0m\n",
            "\u001b[0;31mKeyboardInterrupt\u001b[0m: ",
            "\nDuring handling of the above exception, another exception occurred:\n",
            "\u001b[0;31mKeyboardInterrupt\u001b[0m                         Traceback (most recent call last)",
            "\u001b[0;32m<ipython-input-11-4579a892b58d>\u001b[0m in \u001b[0;36m<module>\u001b[0;34m()\u001b[0m\n\u001b[1;32m     18\u001b[0m \u001b[0;34m\u001b[0m\u001b[0m\n\u001b[1;32m     19\u001b[0m \u001b[0;32mif\u001b[0m \u001b[0m__name__\u001b[0m \u001b[0;34m==\u001b[0m \u001b[0;34m'__main__'\u001b[0m\u001b[0;34m:\u001b[0m\u001b[0;34m\u001b[0m\u001b[0;34m\u001b[0m\u001b[0m\n\u001b[0;32m---> 20\u001b[0;31m     \u001b[0mn\u001b[0m \u001b[0;34m=\u001b[0m \u001b[0mint\u001b[0m\u001b[0;34m(\u001b[0m\u001b[0minput\u001b[0m\u001b[0;34m(\u001b[0m\u001b[0;34m)\u001b[0m\u001b[0;34m.\u001b[0m\u001b[0mstrip\u001b[0m\u001b[0;34m(\u001b[0m\u001b[0;34m)\u001b[0m\u001b[0;34m)\u001b[0m\u001b[0;34m\u001b[0m\u001b[0;34m\u001b[0m\u001b[0m\n\u001b[0m\u001b[1;32m     21\u001b[0m \u001b[0;34m\u001b[0m\u001b[0m\n\u001b[1;32m     22\u001b[0m     \u001b[0mvals\u001b[0m \u001b[0;34m=\u001b[0m \u001b[0mlist\u001b[0m\u001b[0;34m(\u001b[0m\u001b[0mmap\u001b[0m\u001b[0;34m(\u001b[0m\u001b[0mint\u001b[0m\u001b[0;34m,\u001b[0m \u001b[0minput\u001b[0m\u001b[0;34m(\u001b[0m\u001b[0;34m)\u001b[0m\u001b[0;34m.\u001b[0m\u001b[0mrstrip\u001b[0m\u001b[0;34m(\u001b[0m\u001b[0;34m)\u001b[0m\u001b[0;34m.\u001b[0m\u001b[0msplit\u001b[0m\u001b[0;34m(\u001b[0m\u001b[0;34m)\u001b[0m\u001b[0;34m)\u001b[0m\u001b[0;34m)\u001b[0m\u001b[0;34m\u001b[0m\u001b[0;34m\u001b[0m\u001b[0m\n",
            "\u001b[0;32m/usr/local/lib/python3.7/dist-packages/ipykernel/kernelbase.py\u001b[0m in \u001b[0;36mraw_input\u001b[0;34m(self, prompt)\u001b[0m\n\u001b[1;32m    702\u001b[0m             \u001b[0mself\u001b[0m\u001b[0;34m.\u001b[0m\u001b[0m_parent_ident\u001b[0m\u001b[0;34m,\u001b[0m\u001b[0;34m\u001b[0m\u001b[0;34m\u001b[0m\u001b[0m\n\u001b[1;32m    703\u001b[0m             \u001b[0mself\u001b[0m\u001b[0;34m.\u001b[0m\u001b[0m_parent_header\u001b[0m\u001b[0;34m,\u001b[0m\u001b[0;34m\u001b[0m\u001b[0;34m\u001b[0m\u001b[0m\n\u001b[0;32m--> 704\u001b[0;31m             \u001b[0mpassword\u001b[0m\u001b[0;34m=\u001b[0m\u001b[0;32mFalse\u001b[0m\u001b[0;34m,\u001b[0m\u001b[0;34m\u001b[0m\u001b[0;34m\u001b[0m\u001b[0m\n\u001b[0m\u001b[1;32m    705\u001b[0m         )\n\u001b[1;32m    706\u001b[0m \u001b[0;34m\u001b[0m\u001b[0m\n",
            "\u001b[0;32m/usr/local/lib/python3.7/dist-packages/ipykernel/kernelbase.py\u001b[0m in \u001b[0;36m_input_request\u001b[0;34m(self, prompt, ident, parent, password)\u001b[0m\n\u001b[1;32m    732\u001b[0m             \u001b[0;32mexcept\u001b[0m \u001b[0mKeyboardInterrupt\u001b[0m\u001b[0;34m:\u001b[0m\u001b[0;34m\u001b[0m\u001b[0;34m\u001b[0m\u001b[0m\n\u001b[1;32m    733\u001b[0m                 \u001b[0;31m# re-raise KeyboardInterrupt, to truncate traceback\u001b[0m\u001b[0;34m\u001b[0m\u001b[0;34m\u001b[0m\u001b[0;34m\u001b[0m\u001b[0m\n\u001b[0;32m--> 734\u001b[0;31m                 \u001b[0;32mraise\u001b[0m \u001b[0mKeyboardInterrupt\u001b[0m\u001b[0;34m\u001b[0m\u001b[0;34m\u001b[0m\u001b[0m\n\u001b[0m\u001b[1;32m    735\u001b[0m             \u001b[0;32melse\u001b[0m\u001b[0;34m:\u001b[0m\u001b[0;34m\u001b[0m\u001b[0;34m\u001b[0m\u001b[0m\n\u001b[1;32m    736\u001b[0m                 \u001b[0;32mbreak\u001b[0m\u001b[0;34m\u001b[0m\u001b[0;34m\u001b[0m\u001b[0m\n",
            "\u001b[0;31mKeyboardInterrupt\u001b[0m: "
          ]
        }
      ]
    },
    {
      "cell_type": "code",
      "metadata": {
        "colab": {
          "base_uri": "https://localhost:8080/",
          "height": 351
        },
        "id": "ymKJG1J6zLXF",
        "outputId": "11e1bcd9-d264-437c-e3b2-465cb7350bf5"
      },
      "source": [
        "import math\n",
        "import os\n",
        "import random\n",
        "import re\n",
        "import sys\n",
        "\n",
        "#\n",
        "# Complete the 'quartiles' function below.\n",
        "#\n",
        "# The function is expected to return an INTEGER_ARRAY.\n",
        "# The function accepts INTEGER_ARRAY arr as parameter.\n",
        "#\n",
        "\n",
        "def quartiles(arr):\n",
        "    arr.sort()\n",
        "    idx = n//2\n",
        "\n",
        "    def mediana(array):\n",
        "      idx1 = len(array)//2\n",
        "      if len(array)%2:\n",
        "        q50 = array[idx1]\n",
        "      else:\n",
        "        q50 = int(sum(array[idx1-1:idx1+1])/2)\n",
        "      return q50\n",
        "   \n",
        "      \n",
        "    if n%2:\n",
        "      l = arr[:idx]\n",
        "      u = arr[idx+1:]\n",
        "\n",
        "    else:\n",
        "      l = arr[:idx]\n",
        "      u = arr[idx:]\n",
        "    q1 = mediana(l))\n",
        "    q2 = mediana(arr)\n",
        "    q3 = mediana(u)\n",
        "    return q1,q2,q3\n",
        "\n",
        "\n",
        "if __name__ == '__main__':\n",
        "    fptr = open(os.environ['OUTPUT_PATH'], 'w')\n",
        "\n",
        "    n = int(input().strip())\n",
        "\n",
        "    data = list(map(int, input().rstrip().split()))\n",
        "\n",
        "    res = quartiles(data)\n",
        "\n",
        "    fptr.write('\\n'.join(map(str, res)))\n",
        "    fptr.write('\\n')\n",
        "\n",
        "    fptr.close()\n"
      ],
      "execution_count": null,
      "outputs": [
        {
          "output_type": "error",
          "ename": "KeyError",
          "evalue": "ignored",
          "traceback": [
            "\u001b[0;31m---------------------------------------------------------------------------\u001b[0m",
            "\u001b[0;31mKeyError\u001b[0m                                  Traceback (most recent call last)",
            "\u001b[0;32m<ipython-input-14-0e16931680f0>\u001b[0m in \u001b[0;36m<module>\u001b[0;34m()\u001b[0m\n\u001b[1;32m     42\u001b[0m \u001b[0;34m\u001b[0m\u001b[0m\n\u001b[1;32m     43\u001b[0m \u001b[0;32mif\u001b[0m \u001b[0m__name__\u001b[0m \u001b[0;34m==\u001b[0m \u001b[0;34m'__main__'\u001b[0m\u001b[0;34m:\u001b[0m\u001b[0;34m\u001b[0m\u001b[0;34m\u001b[0m\u001b[0m\n\u001b[0;32m---> 44\u001b[0;31m     \u001b[0mfptr\u001b[0m \u001b[0;34m=\u001b[0m \u001b[0mopen\u001b[0m\u001b[0;34m(\u001b[0m\u001b[0mos\u001b[0m\u001b[0;34m.\u001b[0m\u001b[0menviron\u001b[0m\u001b[0;34m[\u001b[0m\u001b[0;34m'OUTPUT_PATH'\u001b[0m\u001b[0;34m]\u001b[0m\u001b[0;34m,\u001b[0m \u001b[0;34m'w'\u001b[0m\u001b[0;34m)\u001b[0m\u001b[0;34m\u001b[0m\u001b[0;34m\u001b[0m\u001b[0m\n\u001b[0m\u001b[1;32m     45\u001b[0m \u001b[0;34m\u001b[0m\u001b[0m\n\u001b[1;32m     46\u001b[0m     \u001b[0mn\u001b[0m \u001b[0;34m=\u001b[0m \u001b[0mint\u001b[0m\u001b[0;34m(\u001b[0m\u001b[0minput\u001b[0m\u001b[0;34m(\u001b[0m\u001b[0;34m)\u001b[0m\u001b[0;34m.\u001b[0m\u001b[0mstrip\u001b[0m\u001b[0;34m(\u001b[0m\u001b[0;34m)\u001b[0m\u001b[0;34m)\u001b[0m\u001b[0;34m\u001b[0m\u001b[0;34m\u001b[0m\u001b[0m\n",
            "\u001b[0;32m/usr/lib/python3.7/os.py\u001b[0m in \u001b[0;36m__getitem__\u001b[0;34m(self, key)\u001b[0m\n\u001b[1;32m    679\u001b[0m         \u001b[0;32mexcept\u001b[0m \u001b[0mKeyError\u001b[0m\u001b[0;34m:\u001b[0m\u001b[0;34m\u001b[0m\u001b[0;34m\u001b[0m\u001b[0m\n\u001b[1;32m    680\u001b[0m             \u001b[0;31m# raise KeyError with the original key value\u001b[0m\u001b[0;34m\u001b[0m\u001b[0;34m\u001b[0m\u001b[0;34m\u001b[0m\u001b[0m\n\u001b[0;32m--> 681\u001b[0;31m             \u001b[0;32mraise\u001b[0m \u001b[0mKeyError\u001b[0m\u001b[0;34m(\u001b[0m\u001b[0mkey\u001b[0m\u001b[0;34m)\u001b[0m \u001b[0;32mfrom\u001b[0m \u001b[0;32mNone\u001b[0m\u001b[0;34m\u001b[0m\u001b[0;34m\u001b[0m\u001b[0m\n\u001b[0m\u001b[1;32m    682\u001b[0m         \u001b[0;32mreturn\u001b[0m \u001b[0mself\u001b[0m\u001b[0;34m.\u001b[0m\u001b[0mdecodevalue\u001b[0m\u001b[0;34m(\u001b[0m\u001b[0mvalue\u001b[0m\u001b[0;34m)\u001b[0m\u001b[0;34m\u001b[0m\u001b[0;34m\u001b[0m\u001b[0m\n\u001b[1;32m    683\u001b[0m \u001b[0;34m\u001b[0m\u001b[0m\n",
            "\u001b[0;31mKeyError\u001b[0m: 'OUTPUT_PATH'"
          ]
        }
      ]
    },
    {
      "cell_type": "code",
      "metadata": {
        "id": "aj43O-k4UJoM"
      },
      "source": [
        "#!/bin/python3\n",
        "\n",
        "import math\n",
        "import os\n",
        "import random\n",
        "import re\n",
        "import sys\n",
        "\n",
        "#\n",
        "# Complete the 'interQuartile' function below.\n",
        "#\n",
        "# The function accepts following parameters:\n",
        "#  1. INTEGER_ARRAY values\n",
        "#  2. INTEGER_ARRAY freqs\n",
        "#\n",
        "\n",
        "def interQuartile(values, freqs):\n",
        "    S = [values[j] for j in range(n) for i in range(freqs[j]) ]\n",
        "    \n",
        "    def quartiles(arr):\n",
        "    arr.sort()\n",
        "    idx = n//2\n",
        "\n",
        "    def mediana(array):\n",
        "      idx1 = len(array)//2\n",
        "      if len(array)%2:\n",
        "        q50 = array[idx1]\n",
        "      else:\n",
        "        q50 = int(sum(array[idx1-1:idx1+1])/2)\n",
        "      return q50\n",
        "   \n",
        "      \n",
        "    if n%2:\n",
        "      l = arr[:idx]\n",
        "      u = arr[idx+1:]\n",
        "\n",
        "    else:\n",
        "      l = arr[:idx]\n",
        "      u = arr[idx:]\n",
        "    q1 = mediana(l))\n",
        "    q2 = mediana(arr)\n",
        "    q3 = mediana(u)\n",
        "    return q1,q2,q3\n",
        "    iqr = q3-q1\n",
        "\n",
        "    \n",
        "\n",
        "    \n",
        "    \n",
        "\n",
        "if __name__ == '__main__':\n",
        "    n = int(input().strip())\n",
        "\n",
        "    val = list(map(int, input().rstrip().split()))\n",
        "\n",
        "    freq = list(map(int, input().rstrip().split()))\n",
        "\n",
        "    interQuartile(val, freq)\n"
      ],
      "execution_count": null,
      "outputs": []
    },
    {
      "cell_type": "code",
      "metadata": {
        "colab": {
          "base_uri": "https://localhost:8080/"
        },
        "id": "KWL7UDewKNIK",
        "outputId": "f2a4f640-5669-4526-c5ae-0cd139f9e870"
      },
      "source": [
        "import math\n",
        "\n",
        "ratio, childperbirth = list(map(float, input().split(\" \")))\n",
        "p = (ratio)/(1+ratio)\n",
        "b, n = 0, 6\n",
        "def binomial(x,n,p):\n",
        "    b =(math.factorial(n)/(math.factorial(x)*math.factorial(n-x)))* (p**x)*((1-p)**(n-x))\n",
        "    return b\n",
        "for x in range(3,7):\n",
        "  b+= binomial(x,n,p)\n",
        "print(\"%.3f\" %b)\n",
        "\n",
        "    \n"
      ],
      "execution_count": null,
      "outputs": [
        {
          "output_type": "stream",
          "name": "stdout",
          "text": [
            "1.09 1\n",
            "0.3107647656395735\n",
            "0.5648149615499249\n",
            "0.6755808469668382\n",
            "0.6957033161509107\n",
            "0.696\n",
            "0.521531100478469\n"
          ]
        }
      ]
    },
    {
      "cell_type": "code",
      "metadata": {
        "colab": {
          "base_uri": "https://localhost:8080/"
        },
        "id": "acOLBY2VOANA",
        "outputId": "94cc9b02-3de1-44af-a2a4-395975294d0a"
      },
      "source": [
        "ratio, batch= list(map(float,input().split(\" \")))\n",
        "p=ratio/100\n",
        "b,b1,n=0,0,10\n",
        "def binomial(x,n,p):\n",
        "  binom = (math.factorial(n)/(math.factorial(x)*math.factorial(n-x)))*(p**x)*((1-p)**(n-x))\n",
        "  return binom\n",
        "#No more than  2 rejects?\n",
        "for x in range(3):\n",
        "  b1+=binomial(x,n,p)\n",
        "  print(b1)\n",
        "\n",
        "#At least  2 rejects?\n",
        "\n",
        "for i in range(2,11):\n",
        "  b+=binomial(i,n,p)\n",
        "print(\"%.3f\" %b1)\n",
        "print(\"%.3f\" %b)\n"
      ],
      "execution_count": null,
      "outputs": [
        {
          "output_type": "stream",
          "name": "stdout",
          "text": [
            "12 10\n",
            "0.27850097600940216\n",
            "0.6582750342040414\n",
            "0.8913182062780246\n",
            "0.891\n",
            "0.342\n"
          ]
        }
      ]
    },
    {
      "cell_type": "code",
      "metadata": {
        "colab": {
          "base_uri": "https://localhost:8080/"
        },
        "id": "Cg3si5mKl7St",
        "outputId": "91d5c191-94e5-4a66-d4d9-dc383e8420a8"
      },
      "source": [
        "numerator, denominator = list(map(int,input().split(\" \")))\n",
        "n = int(input())\n",
        "q = numerator/denominator\n",
        "p = 1-q\n",
        "def geom(n,p,q):\n",
        "  g = round((q**(n-1))*p,3)\n",
        "  return g\n",
        "print(geom(n,q,p))"
      ],
      "execution_count": null,
      "outputs": [
        {
          "output_type": "stream",
          "name": "stdout",
          "text": [
            "1 3\n",
            "5\n",
            "0.066\n"
          ]
        }
      ]
    },
    {
      "cell_type": "code",
      "metadata": {
        "colab": {
          "base_uri": "https://localhost:8080/"
        },
        "id": "a--cDW7bouRe",
        "outputId": "5cfdba66-f19c-4c90-8edb-2da2bbdfbacc"
      },
      "source": [
        "numerator, denominator = list(map(int,input().split(\" \")))\n",
        "n = int(input())\n",
        "q = numerator/denominator\n",
        "p = 1-q\n",
        "b = 0\n",
        "print(p,q)\n",
        "def binomi(n,p,q):\n",
        "  g = p**(n-1)*q\n",
        "  print(g)\n",
        "  return g\n",
        "  \n",
        "for i in range(1,n+1):\n",
        "  b += binomi(i,p,q)\n",
        "print(\"%.3f\"%b)\n"
      ],
      "execution_count": null,
      "outputs": [
        {
          "output_type": "stream",
          "name": "stdout",
          "text": [
            "1 3\n",
            "5\n",
            "0.6666666666666667 0.3333333333333333\n",
            "0.3333333333333333\n",
            "0.22222222222222224\n",
            "0.14814814814814817\n",
            "0.09876543209876545\n",
            "0.06584362139917699\n",
            "0.868\n"
          ]
        }
      ]
    },
    {
      "cell_type": "code",
      "metadata": {
        "colab": {
          "base_uri": "https://localhost:8080/"
        },
        "id": "4IH33mZb3qfw",
        "outputId": "b787336b-4164-4afd-c1ef-4adadb085b00"
      },
      "source": [
        "numerator, denominator = list(map(int,input().split(\" \")))\n",
        "n = int(input())\n",
        "q = numerator/denominator\n",
        "p = 1-q\n",
        "\n",
        "print(round(1-(p**5),3))"
      ],
      "execution_count": null,
      "outputs": [
        {
          "output_type": "stream",
          "name": "stdout",
          "text": [
            "1 3\n",
            "5\n",
            "1 3\n"
          ]
        }
      ]
    },
    {
      "cell_type": "code",
      "metadata": {
        "colab": {
          "base_uri": "https://localhost:8080/"
        },
        "id": "zIias7dyr8sz",
        "outputId": "a3d2baff-547a-4acd-bf31-e2aa1eeb719e"
      },
      "source": [
        "import math\n",
        "lam = float(input())\n",
        "x = int(input())\n",
        "\n",
        "def poisson(lam,x):\n",
        "    return round((math.exp(-lam)*lam**x)/math.factorial(x),3)\n",
        "print(poisson(lam,x))"
      ],
      "execution_count": null,
      "outputs": [
        {
          "output_type": "stream",
          "name": "stdout",
          "text": [
            "2.5\n",
            "5\n",
            "0.067\n"
          ]
        }
      ]
    },
    {
      "cell_type": "code",
      "metadata": {
        "colab": {
          "base_uri": "https://localhost:8080/"
        },
        "id": "D7npzckw0M0I",
        "outputId": "b09e8c3f-5990-4b76-b54d-2705665ea620"
      },
      "source": [
        "import math\n",
        "lambda_a = float(input())\n",
        "lambda_b = float(input())\n",
        "cost_a = 160+40*(lambda_a+lambda_a**2)\n",
        "cost_b = 128+40*(lambda_b+lambda_b**2)\n",
        "print(\"%.3f\" %cost_a)\n",
        "print(\"%.3f\" %cost_b)"
      ],
      "execution_count": null,
      "outputs": [
        {
          "output_type": "stream",
          "name": "stdout",
          "text": [
            "0.88\n",
            "1.55\n",
            "226.176\n",
            "286.100\n"
          ]
        }
      ]
    },
    {
      "cell_type": "code",
      "metadata": {
        "colab": {
          "base_uri": "https://localhost:8080/",
          "height": 249
        },
        "id": "6p0rvwj-30_c",
        "outputId": "aa241448-3b77-4bbe-8f62-75c8fae5efc1"
      },
      "source": [
        "lambda_a, lambda_b = list(map(float, input().split(\" \")))\n",
        "\n",
        "cost_a = 160+40*(lambda_a+lambda_a**2)\n",
        "cost_b = 128+40*(lambda_b+lambda_b**2)\n",
        "print(\"%.3f\" %cost_a)\n",
        "print(\"%.3f\" %cost_b)"
      ],
      "execution_count": null,
      "outputs": [
        {
          "name": "stdout",
          "output_type": "stream",
          "text": [
            "0.88 1.55\n"
          ]
        },
        {
          "output_type": "error",
          "ename": "TypeError",
          "evalue": "ignored",
          "traceback": [
            "\u001b[0;31m---------------------------------------------------------------------------\u001b[0m",
            "\u001b[0;31mTypeError\u001b[0m                                 Traceback (most recent call last)",
            "\u001b[0;32m<ipython-input-17-0325071f030b>\u001b[0m in \u001b[0;36m<module>\u001b[0;34m()\u001b[0m\n\u001b[0;32m----> 1\u001b[0;31m \u001b[0mlambda_a\u001b[0m\u001b[0;34m,\u001b[0m \u001b[0mlambda_b\u001b[0m \u001b[0;34m=\u001b[0m \u001b[0mlist\u001b[0m\u001b[0;34m(\u001b[0m\u001b[0mmap\u001b[0m\u001b[0;34m(\u001b[0m\u001b[0mfloat\u001b[0m\u001b[0;34m(\u001b[0m\u001b[0;34m)\u001b[0m\u001b[0;34m,\u001b[0m \u001b[0minput\u001b[0m\u001b[0;34m(\u001b[0m\u001b[0;34m)\u001b[0m\u001b[0;34m.\u001b[0m\u001b[0msplit\u001b[0m\u001b[0;34m(\u001b[0m\u001b[0;34m\" \"\u001b[0m\u001b[0;34m)\u001b[0m\u001b[0;34m)\u001b[0m\u001b[0;34m)\u001b[0m\u001b[0;34m\u001b[0m\u001b[0;34m\u001b[0m\u001b[0m\n\u001b[0m\u001b[1;32m      2\u001b[0m \u001b[0;34m\u001b[0m\u001b[0m\n\u001b[1;32m      3\u001b[0m \u001b[0mcost_a\u001b[0m \u001b[0;34m=\u001b[0m \u001b[0;36m160\u001b[0m\u001b[0;34m+\u001b[0m\u001b[0;36m40\u001b[0m\u001b[0;34m*\u001b[0m\u001b[0;34m(\u001b[0m\u001b[0mlambda_a\u001b[0m\u001b[0;34m+\u001b[0m\u001b[0mlambda_a\u001b[0m\u001b[0;34m**\u001b[0m\u001b[0;36m2\u001b[0m\u001b[0;34m)\u001b[0m\u001b[0;34m\u001b[0m\u001b[0;34m\u001b[0m\u001b[0m\n\u001b[1;32m      4\u001b[0m \u001b[0mcost_b\u001b[0m \u001b[0;34m=\u001b[0m \u001b[0;36m128\u001b[0m\u001b[0;34m+\u001b[0m\u001b[0;36m40\u001b[0m\u001b[0;34m*\u001b[0m\u001b[0;34m(\u001b[0m\u001b[0mlambda_b\u001b[0m\u001b[0;34m+\u001b[0m\u001b[0mlambda_b\u001b[0m\u001b[0;34m**\u001b[0m\u001b[0;36m2\u001b[0m\u001b[0;34m)\u001b[0m\u001b[0;34m\u001b[0m\u001b[0;34m\u001b[0m\u001b[0m\n\u001b[1;32m      5\u001b[0m \u001b[0mprint\u001b[0m\u001b[0;34m(\u001b[0m\u001b[0;34m\"%.3f\"\u001b[0m \u001b[0;34m%\u001b[0m\u001b[0mcost_a\u001b[0m\u001b[0;34m)\u001b[0m\u001b[0;34m\u001b[0m\u001b[0;34m\u001b[0m\u001b[0m\n",
            "\u001b[0;31mTypeError\u001b[0m: 'float' object is not callable"
          ]
        }
      ]
    },
    {
      "cell_type": "code",
      "metadata": {
        "colab": {
          "base_uri": "https://localhost:8080/"
        },
        "id": "92sm9nUSG4i8",
        "outputId": "474a2a27-f355-4b86-dd90-b8dd07f525cc"
      },
      "source": [
        "media, desvest = list(map(float,input().split(\" \")))\n",
        "p1 =float(input())\n",
        "r1,r2 = list(map(float,input().split(\" \")))\n",
        "def normal_estandar(x,media,desvest):\n",
        "  z = (x-media)/desvest\n",
        "  n = (1/math.sqrt(2*math.pi))*math.exp(-(z**2)/2)\n",
        "  print(n)\n",
        "  return n\n",
        "\n",
        "print(normal_estandar(p1,media,desvest))\n",
        "print(normal_estandar(r2,media,desvest)-normal_estandar(r1,media,desvest))\n",
        "\n",
        "\n"
      ],
      "execution_count": null,
      "outputs": [
        {
          "output_type": "stream",
          "name": "stdout",
          "text": [
            "20 2\n",
            "19.5\n",
            "20 22\n",
            "0.38666811680284924\n",
            "0.38666811680284924\n",
            "0.24197072451914337\n",
            "0.3989422804014327\n",
            "-0.15697155588228934\n"
          ]
        }
      ]
    },
    {
      "cell_type": "code",
      "metadata": {
        "colab": {
          "base_uri": "https://localhost:8080/"
        },
        "id": "llhLr8UZUkRp",
        "outputId": "48c8544e-1a01-4093-dbf6-ba2f23620a1c"
      },
      "source": [
        "media,desvest = list(map(float,input().split(\" \")))\n",
        "x1 = float(input())\n",
        "x2,x3 = list(map(float,input().split(\" \")))\n",
        "\n",
        "import math\n",
        "def normal_estandar(x,media,desvest):\n",
        "  z = (x-media)/desvest\n",
        "  return  (1/2)*(1+math.erf(z/math.sqrt(2)))\n",
        "\n",
        "print(f'{normal_estandar(x1,media,desvest):.3f}') \n",
        "print(f'{normal_estandar(x3,media,desvest)-normal_estandar(x2,media,desvest):.3f}')"
      ],
      "execution_count": null,
      "outputs": [
        {
          "output_type": "stream",
          "name": "stdout",
          "text": [
            "20 2\n",
            "19.5\n",
            "20 22\n",
            "0.401\n",
            "0.341\n"
          ]
        }
      ]
    },
    {
      "cell_type": "code",
      "metadata": {
        "colab": {
          "base_uri": "https://localhost:8080/"
        },
        "id": "Sy8flxQ3fYC5",
        "outputId": "f0e15821-d7c3-482a-ab2c-db96a07165c7"
      },
      "source": [
        "media,desvest = list(map(float,input().split(\" \")))\n",
        "x1 = float(input())\n",
        "x2 = float(input())\n",
        "import math\n",
        "def normal_estandar(x,media,desvest):\n",
        "  z = (x-media)/desvest\n",
        "  return  (1/2)*(1+math.erf(z/math.sqrt(2)))\n",
        "print(f'{(1-normal_estandar(x1,media,desvest))*100:.2f}') \n",
        "print(f'{(1-normal_estandar(x2,media,desvest))*100:.2f}') \n",
        "print(f'{normal_estandar(x2,media,desvest)*100:.2f}') "
      ],
      "execution_count": null,
      "outputs": [
        {
          "output_type": "stream",
          "name": "stdout",
          "text": [
            "70 10\n",
            "80\n",
            "60\n",
            "15.87\n",
            "84.13\n",
            "15.87\n"
          ]
        }
      ]
    },
    {
      "cell_type": "code",
      "metadata": {
        "colab": {
          "base_uri": "https://localhost:8080/"
        },
        "id": "TRSYi2yKlmOP",
        "outputId": "d34097ee-0300-4eed-cdf1-eb82dd302e63"
      },
      "source": [
        "x = float(input())\n",
        "n = int(input())\n",
        "media =float(input())\n",
        "desvest = float(input())\n",
        "media_cargo = media*n\n",
        "desv_cargo = desvest*math.sqrt(n)\n",
        "import math\n",
        "def normal_estandar(x,media,desvest):\n",
        "  z = (x-media)/desvest\n",
        "  return  (1/2)*(1+math.erf(z/math.sqrt(2)))\n",
        "print(f'{normal_estandar(x,media_cargo,desv_cargo):.4f}') \n"
      ],
      "execution_count": null,
      "outputs": [
        {
          "output_type": "stream",
          "name": "stdout",
          "text": [
            "9800\n",
            "49\n",
            "205\n",
            "15\n",
            "0.0098\n"
          ]
        }
      ]
    },
    {
      "cell_type": "code",
      "metadata": {
        "colab": {
          "base_uri": "https://localhost:8080/"
        },
        "id": "PQWZHqfwuNJu",
        "outputId": "58cf3880-902c-4e1f-ac70-c06bda077865"
      },
      "source": [
        "x = float(input())\n",
        "n = int(input())\n",
        "media =float(input())\n",
        "desvest = float(input())\n",
        "media_muestral = media*n\n",
        "desv_muestral = desvest*math.sqrt(n)\n",
        "import math\n",
        "def normal_estandar(x,media,desvest):\n",
        "  z = (x-media)/desvest\n",
        "  return  (1/2)*(1+math.erf(z/math.sqrt(2)))\n",
        "print(f'{normal_estandar(x,media_muestral,desv_muestral):.4f}') "
      ],
      "execution_count": null,
      "outputs": [
        {
          "output_type": "stream",
          "name": "stdout",
          "text": [
            "250\n",
            "100\n",
            "2.4\n",
            "2.0\n",
            "0.6915\n"
          ]
        }
      ]
    },
    {
      "cell_type": "code",
      "metadata": {
        "colab": {
          "base_uri": "https://localhost:8080/"
        },
        "id": "PTH-BQFZ2Oxq",
        "outputId": "452a9acf-b440-4ee0-bda3-4aff87b2dd7e"
      },
      "source": [
        "import math\n",
        "n = int(input())\n",
        "media =float(input())\n",
        "desvest = float(input())\n",
        "area = float(input())\n",
        "z = float(input())\n",
        "desv_muestra = desvest/math.sqrt(n)\n",
        "A = media+(z*desv_muestra)\n",
        "B= media-(z*desv_muestra)\n",
        "print(f'{A:.2f}')\n",
        "print(f'{B:.2f}')"
      ],
      "execution_count": null,
      "outputs": [
        {
          "output_type": "stream",
          "name": "stdout",
          "text": [
            "100\n",
            "500\n",
            "80\n",
            "0.95\n",
            "1.96\n",
            "515.68\n",
            "484.32\n"
          ]
        }
      ]
    },
    {
      "cell_type": "code",
      "metadata": {
        "colab": {
          "base_uri": "https://localhost:8080/"
        },
        "id": "bqJe63239O7J",
        "outputId": "78a9013b-0fef-47ae-c27e-aa5885cae089"
      },
      "source": [
        "n =int(input())\n",
        "x = list(map(float,input().strip().split()))\n",
        "y = list(map(float,input().strip().split()))\n",
        "import math\n",
        "media_x= sum(x)/n\n",
        "media_y= sum(y)/n\n",
        "desv_x = math.sqrt(sum([(i-media_x)**2 for i in x ])/n)\n",
        "desv_y = math.sqrt(sum([(j-media_y)**2 for j in y ])/n)\n",
        "def pearson(x,y,n):\n",
        "\n",
        "  p = sum([(x[i]-media_x)*(y[i]-media_y )for i in range(n)])/(desv_x*desv_y*n)\n",
        "\n",
        "  return p\n",
        "print(f'{pearson(x,y,n):.3f}')"
      ],
      "execution_count": null,
      "outputs": [
        {
          "output_type": "stream",
          "name": "stdout",
          "text": [
            "10\n",
            "10 9.8 8 7.8 7.7 7 6 5 4 2 \n",
            "200 44 32 24 22 17 15 12 8 4\n",
            "6.730000000000001 2.392509143138225\n",
            "37.8 55.199275357562435\n",
            "0.612\n"
          ]
        }
      ]
    },
    {
      "cell_type": "code",
      "metadata": {
        "colab": {
          "base_uri": "https://localhost:8080/"
        },
        "id": "kESCS0QR9gLY",
        "outputId": "c70c3deb-b045-4059-a216-05479d5a6820"
      },
      "source": [
        "N = int(input())\n",
        "X = list(map(float,input().strip().split()))\n",
        "Y = list(map(float,input().strip().split()))\n",
        "\n",
        "mu_x = sum(X) / N\n",
        "mu_y = sum(Y) / N\n",
        "\n",
        "stdv_x = (sum([(i - mu_x)**2 for i in X]) / N)**0.5\n",
        "stdv_y = (sum([(i - mu_y)**2 for i in Y]) / N)**0.5\n",
        "\n",
        "\n",
        "covariance = sum([(X[i] - mu_x) * (Y[i] -mu_y) for i in range(N)])\n",
        "\n",
        "correlation_coefficient = covariance / (N * stdv_x * stdv_y)\n",
        "\n",
        "print(round(correlation_coefficient,3))"
      ],
      "execution_count": null,
      "outputs": [
        {
          "output_type": "execute_result",
          "data": {
            "text/plain": [
              "[1.0, 2.0, 3.0, 4.0]"
            ]
          },
          "metadata": {},
          "execution_count": 27
        }
      ]
    },
    {
      "cell_type": "code",
      "metadata": {
        "colab": {
          "base_uri": "https://localhost:8080/"
        },
        "id": "WdBlNFCfM3jS",
        "outputId": "1a30a1a8-0dc2-4bbc-8859-d51e53bb0364"
      },
      "source": [
        "n = int(input())\n",
        "x = list(map(float,input().split()))\n",
        "y = list(map(float,input().split()))\n",
        "\n",
        "rx = [sorted(x).index(i) for i in x]\n",
        "ry = [sorted(y).index(i) for i in y]\n",
        "di = sum([(rx[i]-ry[i])**2 for i in range(n)])\n",
        "rxy = 1-((6*di)/(n*((n**2)-1)))\n",
        "\n",
        "print(f'{rxy:.3f}')\n",
        "\n",
        "\n"
      ],
      "execution_count": null,
      "outputs": [
        {
          "output_type": "stream",
          "name": "stdout",
          "text": [
            "10\n",
            "10 9.8 8 7.8 7.7 1.7 6 5 1.4 2 \n",
            "200 44 32 24 22 17 15 12 8 4\n",
            "0.903\n"
          ]
        }
      ]
    },
    {
      "cell_type": "code",
      "metadata": {
        "colab": {
          "base_uri": "https://localhost:8080/",
          "height": 528
        },
        "id": "9NFlfvp9rNvN",
        "outputId": "b898984f-374b-4dc6-aee6-7c3fc9beaf75"
      },
      "source": [
        "n = 2\n",
        "xy = [(*map(float,input().split()),) for i in range(n)]\n",
        "t = zip(*[(x, y, x**2, x * y) for x, y in xy])\n",
        "sx, sy, sx2, sxy = map(sum, t)\n",
        "b = (n * sxy - sx * sy) / (n * sx2 - sx**2)\n",
        "a = (sy / n) - b * (sx / n)\n",
        "print('{:.3f}'.format(a+b*80))\n"
      ],
      "execution_count": null,
      "outputs": [
        {
          "output_type": "error",
          "ename": "KeyboardInterrupt",
          "evalue": "ignored",
          "traceback": [
            "\u001b[0;31m---------------------------------------------------------------------------\u001b[0m",
            "\u001b[0;31mKeyboardInterrupt\u001b[0m                         Traceback (most recent call last)",
            "\u001b[0;32m/usr/local/lib/python3.7/dist-packages/ipykernel/kernelbase.py\u001b[0m in \u001b[0;36m_input_request\u001b[0;34m(self, prompt, ident, parent, password)\u001b[0m\n\u001b[1;32m    728\u001b[0m             \u001b[0;32mtry\u001b[0m\u001b[0;34m:\u001b[0m\u001b[0;34m\u001b[0m\u001b[0;34m\u001b[0m\u001b[0m\n\u001b[0;32m--> 729\u001b[0;31m                 \u001b[0mident\u001b[0m\u001b[0;34m,\u001b[0m \u001b[0mreply\u001b[0m \u001b[0;34m=\u001b[0m \u001b[0mself\u001b[0m\u001b[0;34m.\u001b[0m\u001b[0msession\u001b[0m\u001b[0;34m.\u001b[0m\u001b[0mrecv\u001b[0m\u001b[0;34m(\u001b[0m\u001b[0mself\u001b[0m\u001b[0;34m.\u001b[0m\u001b[0mstdin_socket\u001b[0m\u001b[0;34m,\u001b[0m \u001b[0;36m0\u001b[0m\u001b[0;34m)\u001b[0m\u001b[0;34m\u001b[0m\u001b[0;34m\u001b[0m\u001b[0m\n\u001b[0m\u001b[1;32m    730\u001b[0m             \u001b[0;32mexcept\u001b[0m \u001b[0mException\u001b[0m\u001b[0;34m:\u001b[0m\u001b[0;34m\u001b[0m\u001b[0;34m\u001b[0m\u001b[0m\n",
            "\u001b[0;32m/usr/local/lib/python3.7/dist-packages/jupyter_client/session.py\u001b[0m in \u001b[0;36mrecv\u001b[0;34m(self, socket, mode, content, copy)\u001b[0m\n\u001b[1;32m    802\u001b[0m         \u001b[0;32mtry\u001b[0m\u001b[0;34m:\u001b[0m\u001b[0;34m\u001b[0m\u001b[0;34m\u001b[0m\u001b[0m\n\u001b[0;32m--> 803\u001b[0;31m             \u001b[0mmsg_list\u001b[0m \u001b[0;34m=\u001b[0m \u001b[0msocket\u001b[0m\u001b[0;34m.\u001b[0m\u001b[0mrecv_multipart\u001b[0m\u001b[0;34m(\u001b[0m\u001b[0mmode\u001b[0m\u001b[0;34m,\u001b[0m \u001b[0mcopy\u001b[0m\u001b[0;34m=\u001b[0m\u001b[0mcopy\u001b[0m\u001b[0;34m)\u001b[0m\u001b[0;34m\u001b[0m\u001b[0;34m\u001b[0m\u001b[0m\n\u001b[0m\u001b[1;32m    804\u001b[0m         \u001b[0;32mexcept\u001b[0m \u001b[0mzmq\u001b[0m\u001b[0;34m.\u001b[0m\u001b[0mZMQError\u001b[0m \u001b[0;32mas\u001b[0m \u001b[0me\u001b[0m\u001b[0;34m:\u001b[0m\u001b[0;34m\u001b[0m\u001b[0;34m\u001b[0m\u001b[0m\n",
            "\u001b[0;32m/usr/local/lib/python3.7/dist-packages/zmq/sugar/socket.py\u001b[0m in \u001b[0;36mrecv_multipart\u001b[0;34m(self, flags, copy, track)\u001b[0m\n\u001b[1;32m    624\u001b[0m         \"\"\"\n\u001b[0;32m--> 625\u001b[0;31m         \u001b[0mparts\u001b[0m \u001b[0;34m=\u001b[0m \u001b[0;34m[\u001b[0m\u001b[0mself\u001b[0m\u001b[0;34m.\u001b[0m\u001b[0mrecv\u001b[0m\u001b[0;34m(\u001b[0m\u001b[0mflags\u001b[0m\u001b[0;34m,\u001b[0m \u001b[0mcopy\u001b[0m\u001b[0;34m=\u001b[0m\u001b[0mcopy\u001b[0m\u001b[0;34m,\u001b[0m \u001b[0mtrack\u001b[0m\u001b[0;34m=\u001b[0m\u001b[0mtrack\u001b[0m\u001b[0;34m)\u001b[0m\u001b[0;34m]\u001b[0m\u001b[0;34m\u001b[0m\u001b[0;34m\u001b[0m\u001b[0m\n\u001b[0m\u001b[1;32m    626\u001b[0m         \u001b[0;31m# have first part already, only loop while more to receive\u001b[0m\u001b[0;34m\u001b[0m\u001b[0;34m\u001b[0m\u001b[0;34m\u001b[0m\u001b[0m\n",
            "\u001b[0;32mzmq/backend/cython/socket.pyx\u001b[0m in \u001b[0;36mzmq.backend.cython.socket.Socket.recv\u001b[0;34m()\u001b[0m\n",
            "\u001b[0;32mzmq/backend/cython/socket.pyx\u001b[0m in \u001b[0;36mzmq.backend.cython.socket.Socket.recv\u001b[0;34m()\u001b[0m\n",
            "\u001b[0;32mzmq/backend/cython/socket.pyx\u001b[0m in \u001b[0;36mzmq.backend.cython.socket._recv_copy\u001b[0;34m()\u001b[0m\n",
            "\u001b[0;32m/usr/local/lib/python3.7/dist-packages/zmq/backend/cython/checkrc.pxd\u001b[0m in \u001b[0;36mzmq.backend.cython.checkrc._check_rc\u001b[0;34m()\u001b[0m\n",
            "\u001b[0;31mKeyboardInterrupt\u001b[0m: ",
            "\nDuring handling of the above exception, another exception occurred:\n",
            "\u001b[0;31mKeyboardInterrupt\u001b[0m                         Traceback (most recent call last)",
            "\u001b[0;32m<ipython-input-26-62f48ecaf05e>\u001b[0m in \u001b[0;36m<module>\u001b[0;34m()\u001b[0m\n\u001b[1;32m      1\u001b[0m \u001b[0mn\u001b[0m \u001b[0;34m=\u001b[0m \u001b[0;36m2\u001b[0m\u001b[0;34m\u001b[0m\u001b[0;34m\u001b[0m\u001b[0m\n\u001b[0;32m----> 2\u001b[0;31m \u001b[0mxy\u001b[0m \u001b[0;34m=\u001b[0m \u001b[0;34m[\u001b[0m\u001b[0;34m(\u001b[0m\u001b[0;34m*\u001b[0m\u001b[0mmap\u001b[0m\u001b[0;34m(\u001b[0m\u001b[0mfloat\u001b[0m\u001b[0;34m,\u001b[0m\u001b[0minput\u001b[0m\u001b[0;34m(\u001b[0m\u001b[0;34m)\u001b[0m\u001b[0;34m.\u001b[0m\u001b[0msplit\u001b[0m\u001b[0;34m(\u001b[0m\u001b[0;34m)\u001b[0m\u001b[0;34m)\u001b[0m\u001b[0;34m,\u001b[0m\u001b[0;34m)\u001b[0m \u001b[0;32mfor\u001b[0m \u001b[0mi\u001b[0m \u001b[0;32min\u001b[0m \u001b[0mrange\u001b[0m\u001b[0;34m(\u001b[0m\u001b[0mn\u001b[0m\u001b[0;34m)\u001b[0m\u001b[0;34m]\u001b[0m\u001b[0;34m\u001b[0m\u001b[0;34m\u001b[0m\u001b[0m\n\u001b[0m\u001b[1;32m      3\u001b[0m \u001b[0mt\u001b[0m \u001b[0;34m=\u001b[0m \u001b[0mzip\u001b[0m\u001b[0;34m(\u001b[0m\u001b[0;34m*\u001b[0m\u001b[0;34m[\u001b[0m\u001b[0;34m(\u001b[0m\u001b[0mx\u001b[0m\u001b[0;34m,\u001b[0m \u001b[0my\u001b[0m\u001b[0;34m,\u001b[0m \u001b[0mx\u001b[0m\u001b[0;34m**\u001b[0m\u001b[0;36m2\u001b[0m\u001b[0;34m,\u001b[0m \u001b[0mx\u001b[0m \u001b[0;34m*\u001b[0m \u001b[0my\u001b[0m\u001b[0;34m)\u001b[0m \u001b[0;32mfor\u001b[0m \u001b[0mx\u001b[0m\u001b[0;34m,\u001b[0m \u001b[0my\u001b[0m \u001b[0;32min\u001b[0m \u001b[0mxy\u001b[0m\u001b[0;34m]\u001b[0m\u001b[0;34m)\u001b[0m\u001b[0;34m\u001b[0m\u001b[0;34m\u001b[0m\u001b[0m\n\u001b[1;32m      4\u001b[0m \u001b[0msx\u001b[0m\u001b[0;34m,\u001b[0m \u001b[0msy\u001b[0m\u001b[0;34m,\u001b[0m \u001b[0msx2\u001b[0m\u001b[0;34m,\u001b[0m \u001b[0msxy\u001b[0m \u001b[0;34m=\u001b[0m \u001b[0mmap\u001b[0m\u001b[0;34m(\u001b[0m\u001b[0msum\u001b[0m\u001b[0;34m,\u001b[0m \u001b[0mt\u001b[0m\u001b[0;34m)\u001b[0m\u001b[0;34m\u001b[0m\u001b[0;34m\u001b[0m\u001b[0m\n\u001b[1;32m      5\u001b[0m \u001b[0mb\u001b[0m \u001b[0;34m=\u001b[0m \u001b[0;34m(\u001b[0m\u001b[0mn\u001b[0m \u001b[0;34m*\u001b[0m \u001b[0msxy\u001b[0m \u001b[0;34m-\u001b[0m \u001b[0msx\u001b[0m \u001b[0;34m*\u001b[0m \u001b[0msy\u001b[0m\u001b[0;34m)\u001b[0m \u001b[0;34m/\u001b[0m \u001b[0;34m(\u001b[0m\u001b[0mn\u001b[0m \u001b[0;34m*\u001b[0m \u001b[0msx2\u001b[0m \u001b[0;34m-\u001b[0m \u001b[0msx\u001b[0m\u001b[0;34m**\u001b[0m\u001b[0;36m2\u001b[0m\u001b[0;34m)\u001b[0m\u001b[0;34m\u001b[0m\u001b[0;34m\u001b[0m\u001b[0m\n",
            "\u001b[0;32m<ipython-input-26-62f48ecaf05e>\u001b[0m in \u001b[0;36m<listcomp>\u001b[0;34m(.0)\u001b[0m\n\u001b[1;32m      1\u001b[0m \u001b[0mn\u001b[0m \u001b[0;34m=\u001b[0m \u001b[0;36m2\u001b[0m\u001b[0;34m\u001b[0m\u001b[0;34m\u001b[0m\u001b[0m\n\u001b[0;32m----> 2\u001b[0;31m \u001b[0mxy\u001b[0m \u001b[0;34m=\u001b[0m \u001b[0;34m[\u001b[0m\u001b[0;34m(\u001b[0m\u001b[0;34m*\u001b[0m\u001b[0mmap\u001b[0m\u001b[0;34m(\u001b[0m\u001b[0mfloat\u001b[0m\u001b[0;34m,\u001b[0m\u001b[0minput\u001b[0m\u001b[0;34m(\u001b[0m\u001b[0;34m)\u001b[0m\u001b[0;34m.\u001b[0m\u001b[0msplit\u001b[0m\u001b[0;34m(\u001b[0m\u001b[0;34m)\u001b[0m\u001b[0;34m)\u001b[0m\u001b[0;34m,\u001b[0m\u001b[0;34m)\u001b[0m \u001b[0;32mfor\u001b[0m \u001b[0mi\u001b[0m \u001b[0;32min\u001b[0m \u001b[0mrange\u001b[0m\u001b[0;34m(\u001b[0m\u001b[0mn\u001b[0m\u001b[0;34m)\u001b[0m\u001b[0;34m]\u001b[0m\u001b[0;34m\u001b[0m\u001b[0;34m\u001b[0m\u001b[0m\n\u001b[0m\u001b[1;32m      3\u001b[0m \u001b[0mt\u001b[0m \u001b[0;34m=\u001b[0m \u001b[0mzip\u001b[0m\u001b[0;34m(\u001b[0m\u001b[0;34m*\u001b[0m\u001b[0;34m[\u001b[0m\u001b[0;34m(\u001b[0m\u001b[0mx\u001b[0m\u001b[0;34m,\u001b[0m \u001b[0my\u001b[0m\u001b[0;34m,\u001b[0m \u001b[0mx\u001b[0m\u001b[0;34m**\u001b[0m\u001b[0;36m2\u001b[0m\u001b[0;34m,\u001b[0m \u001b[0mx\u001b[0m \u001b[0;34m*\u001b[0m \u001b[0my\u001b[0m\u001b[0;34m)\u001b[0m \u001b[0;32mfor\u001b[0m \u001b[0mx\u001b[0m\u001b[0;34m,\u001b[0m \u001b[0my\u001b[0m \u001b[0;32min\u001b[0m \u001b[0mxy\u001b[0m\u001b[0;34m]\u001b[0m\u001b[0;34m)\u001b[0m\u001b[0;34m\u001b[0m\u001b[0;34m\u001b[0m\u001b[0m\n\u001b[1;32m      4\u001b[0m \u001b[0msx\u001b[0m\u001b[0;34m,\u001b[0m \u001b[0msy\u001b[0m\u001b[0;34m,\u001b[0m \u001b[0msx2\u001b[0m\u001b[0;34m,\u001b[0m \u001b[0msxy\u001b[0m \u001b[0;34m=\u001b[0m \u001b[0mmap\u001b[0m\u001b[0;34m(\u001b[0m\u001b[0msum\u001b[0m\u001b[0;34m,\u001b[0m \u001b[0mt\u001b[0m\u001b[0;34m)\u001b[0m\u001b[0;34m\u001b[0m\u001b[0;34m\u001b[0m\u001b[0m\n\u001b[1;32m      5\u001b[0m \u001b[0mb\u001b[0m \u001b[0;34m=\u001b[0m \u001b[0;34m(\u001b[0m\u001b[0mn\u001b[0m \u001b[0;34m*\u001b[0m \u001b[0msxy\u001b[0m \u001b[0;34m-\u001b[0m \u001b[0msx\u001b[0m \u001b[0;34m*\u001b[0m \u001b[0msy\u001b[0m\u001b[0;34m)\u001b[0m \u001b[0;34m/\u001b[0m \u001b[0;34m(\u001b[0m\u001b[0mn\u001b[0m \u001b[0;34m*\u001b[0m \u001b[0msx2\u001b[0m \u001b[0;34m-\u001b[0m \u001b[0msx\u001b[0m\u001b[0;34m**\u001b[0m\u001b[0;36m2\u001b[0m\u001b[0;34m)\u001b[0m\u001b[0;34m\u001b[0m\u001b[0;34m\u001b[0m\u001b[0m\n",
            "\u001b[0;32m/usr/local/lib/python3.7/dist-packages/ipykernel/kernelbase.py\u001b[0m in \u001b[0;36mraw_input\u001b[0;34m(self, prompt)\u001b[0m\n\u001b[1;32m    702\u001b[0m             \u001b[0mself\u001b[0m\u001b[0;34m.\u001b[0m\u001b[0m_parent_ident\u001b[0m\u001b[0;34m,\u001b[0m\u001b[0;34m\u001b[0m\u001b[0;34m\u001b[0m\u001b[0m\n\u001b[1;32m    703\u001b[0m             \u001b[0mself\u001b[0m\u001b[0;34m.\u001b[0m\u001b[0m_parent_header\u001b[0m\u001b[0;34m,\u001b[0m\u001b[0;34m\u001b[0m\u001b[0;34m\u001b[0m\u001b[0m\n\u001b[0;32m--> 704\u001b[0;31m             \u001b[0mpassword\u001b[0m\u001b[0;34m=\u001b[0m\u001b[0;32mFalse\u001b[0m\u001b[0;34m,\u001b[0m\u001b[0;34m\u001b[0m\u001b[0;34m\u001b[0m\u001b[0m\n\u001b[0m\u001b[1;32m    705\u001b[0m         )\n\u001b[1;32m    706\u001b[0m \u001b[0;34m\u001b[0m\u001b[0m\n",
            "\u001b[0;32m/usr/local/lib/python3.7/dist-packages/ipykernel/kernelbase.py\u001b[0m in \u001b[0;36m_input_request\u001b[0;34m(self, prompt, ident, parent, password)\u001b[0m\n\u001b[1;32m    732\u001b[0m             \u001b[0;32mexcept\u001b[0m \u001b[0mKeyboardInterrupt\u001b[0m\u001b[0;34m:\u001b[0m\u001b[0;34m\u001b[0m\u001b[0;34m\u001b[0m\u001b[0m\n\u001b[1;32m    733\u001b[0m                 \u001b[0;31m# re-raise KeyboardInterrupt, to truncate traceback\u001b[0m\u001b[0;34m\u001b[0m\u001b[0;34m\u001b[0m\u001b[0;34m\u001b[0m\u001b[0m\n\u001b[0;32m--> 734\u001b[0;31m                 \u001b[0;32mraise\u001b[0m \u001b[0mKeyboardInterrupt\u001b[0m\u001b[0;34m\u001b[0m\u001b[0;34m\u001b[0m\u001b[0m\n\u001b[0m\u001b[1;32m    735\u001b[0m             \u001b[0;32melse\u001b[0m\u001b[0;34m:\u001b[0m\u001b[0;34m\u001b[0m\u001b[0;34m\u001b[0m\u001b[0m\n\u001b[1;32m    736\u001b[0m                 \u001b[0;32mbreak\u001b[0m\u001b[0;34m\u001b[0m\u001b[0;34m\u001b[0m\u001b[0m\n",
            "\u001b[0;31mKeyboardInterrupt\u001b[0m: "
          ]
        }
      ]
    },
    {
      "cell_type": "code",
      "metadata": {
        "colab": {
          "base_uri": "https://localhost:8080/",
          "height": 266
        },
        "id": "5-Nm3LbctUuU",
        "outputId": "a9acd621-7c99-4b91-9628-6e52692fcf34"
      },
      "source": [
        "n = 2\n",
        "xy = [(*map(float,input().split()),) for i in range(n)]\n",
        "t = zip(*[(xy[i]) for i in range(n)])\n",
        "sx, sy, sx2, sxy = map(sum, t)\n",
        "b = (n * sxy - sx * sy) / (n * sx2 - sx**2)\n",
        "a = (sy / n) - b * (sx / n)\n",
        "print('{:.3f}'.format(a+b*80))"
      ],
      "execution_count": null,
      "outputs": [
        {
          "name": "stdout",
          "output_type": "stream",
          "text": [
            "1 2\n",
            "3 4\n"
          ]
        },
        {
          "output_type": "error",
          "ename": "ValueError",
          "evalue": "ignored",
          "traceback": [
            "\u001b[0;31m---------------------------------------------------------------------------\u001b[0m",
            "\u001b[0;31mValueError\u001b[0m                                Traceback (most recent call last)",
            "\u001b[0;32m<ipython-input-27-37890ca0341e>\u001b[0m in \u001b[0;36m<module>\u001b[0;34m()\u001b[0m\n\u001b[1;32m      2\u001b[0m \u001b[0mxy\u001b[0m \u001b[0;34m=\u001b[0m \u001b[0;34m[\u001b[0m\u001b[0;34m(\u001b[0m\u001b[0;34m*\u001b[0m\u001b[0mmap\u001b[0m\u001b[0;34m(\u001b[0m\u001b[0mfloat\u001b[0m\u001b[0;34m,\u001b[0m\u001b[0minput\u001b[0m\u001b[0;34m(\u001b[0m\u001b[0;34m)\u001b[0m\u001b[0;34m.\u001b[0m\u001b[0msplit\u001b[0m\u001b[0;34m(\u001b[0m\u001b[0;34m)\u001b[0m\u001b[0;34m)\u001b[0m\u001b[0;34m,\u001b[0m\u001b[0;34m)\u001b[0m \u001b[0;32mfor\u001b[0m \u001b[0mi\u001b[0m \u001b[0;32min\u001b[0m \u001b[0mrange\u001b[0m\u001b[0;34m(\u001b[0m\u001b[0mn\u001b[0m\u001b[0;34m)\u001b[0m\u001b[0;34m]\u001b[0m\u001b[0;34m\u001b[0m\u001b[0;34m\u001b[0m\u001b[0m\n\u001b[1;32m      3\u001b[0m \u001b[0mt\u001b[0m \u001b[0;34m=\u001b[0m \u001b[0mzip\u001b[0m\u001b[0;34m(\u001b[0m\u001b[0;34m*\u001b[0m\u001b[0;34m[\u001b[0m\u001b[0;34m(\u001b[0m\u001b[0mxy\u001b[0m\u001b[0;34m[\u001b[0m\u001b[0mi\u001b[0m\u001b[0;34m]\u001b[0m\u001b[0;34m)\u001b[0m \u001b[0;32mfor\u001b[0m \u001b[0mi\u001b[0m \u001b[0;32min\u001b[0m \u001b[0mrange\u001b[0m\u001b[0;34m(\u001b[0m\u001b[0mn\u001b[0m\u001b[0;34m)\u001b[0m\u001b[0;34m]\u001b[0m\u001b[0;34m)\u001b[0m\u001b[0;34m\u001b[0m\u001b[0;34m\u001b[0m\u001b[0m\n\u001b[0;32m----> 4\u001b[0;31m \u001b[0msx\u001b[0m\u001b[0;34m,\u001b[0m \u001b[0msy\u001b[0m\u001b[0;34m,\u001b[0m \u001b[0msx2\u001b[0m\u001b[0;34m,\u001b[0m \u001b[0msxy\u001b[0m \u001b[0;34m=\u001b[0m \u001b[0mmap\u001b[0m\u001b[0;34m(\u001b[0m\u001b[0msum\u001b[0m\u001b[0;34m,\u001b[0m \u001b[0mt\u001b[0m\u001b[0;34m)\u001b[0m\u001b[0;34m\u001b[0m\u001b[0;34m\u001b[0m\u001b[0m\n\u001b[0m\u001b[1;32m      5\u001b[0m \u001b[0mb\u001b[0m \u001b[0;34m=\u001b[0m \u001b[0;34m(\u001b[0m\u001b[0mn\u001b[0m \u001b[0;34m*\u001b[0m \u001b[0msxy\u001b[0m \u001b[0;34m-\u001b[0m \u001b[0msx\u001b[0m \u001b[0;34m*\u001b[0m \u001b[0msy\u001b[0m\u001b[0;34m)\u001b[0m \u001b[0;34m/\u001b[0m \u001b[0;34m(\u001b[0m\u001b[0mn\u001b[0m \u001b[0;34m*\u001b[0m \u001b[0msx2\u001b[0m \u001b[0;34m-\u001b[0m \u001b[0msx\u001b[0m\u001b[0;34m**\u001b[0m\u001b[0;36m2\u001b[0m\u001b[0;34m)\u001b[0m\u001b[0;34m\u001b[0m\u001b[0;34m\u001b[0m\u001b[0m\n\u001b[1;32m      6\u001b[0m \u001b[0ma\u001b[0m \u001b[0;34m=\u001b[0m \u001b[0;34m(\u001b[0m\u001b[0msy\u001b[0m \u001b[0;34m/\u001b[0m \u001b[0mn\u001b[0m\u001b[0;34m)\u001b[0m \u001b[0;34m-\u001b[0m \u001b[0mb\u001b[0m \u001b[0;34m*\u001b[0m \u001b[0;34m(\u001b[0m\u001b[0msx\u001b[0m \u001b[0;34m/\u001b[0m \u001b[0mn\u001b[0m\u001b[0;34m)\u001b[0m\u001b[0;34m\u001b[0m\u001b[0;34m\u001b[0m\u001b[0m\n",
            "\u001b[0;31mValueError\u001b[0m: not enough values to unpack (expected 4, got 2)"
          ]
        }
      ]
    },
    {
      "cell_type": "code",
      "metadata": {
        "id": "AEwH4IX8_vcg"
      },
      "source": [
        "2 7\n",
        "0.18 0.89 109.85\n",
        "1.0 0.26 155.72\n",
        "0.92 0.11 137.66\n",
        "0.07 0.37 76.17\n",
        "0.85 0.16 139.75\n",
        "0.99 0.41 162.6\n",
        "0.87 0.47 151.77\n",
        "4\n",
        "0.49 0.18\n",
        "0.57 0.83\n",
        "0.56 0.64\n"
      ],
      "execution_count": null,
      "outputs": []
    },
    {
      "cell_type": "code",
      "metadata": {
        "colab": {
          "base_uri": "https://localhost:8080/"
        },
        "id": "dDFg2BuxxCM6",
        "outputId": "fd22a8dd-6e55-4a9e-8402-989235a7c58a"
      },
      "source": [
        "m,n = list(map(int,input().split()))\n",
        "X = []\n",
        "Y = []\n",
        "X_new = []\n",
        "Y_new = []\n",
        "import numpy as np\n",
        "\n",
        "for i in range(n):\n",
        "  data = list(map(float,input().split()))\n",
        "  X.append([1]+data[:m])\n",
        "  Y.append(data[m:])\n",
        "X = np.array(X,float)\n",
        "Y = np.array(Y,float)\n",
        "\n",
        "b = np.dot(np.linalg.inv(np.dot(np.transpose(X),X)),np.dot(np.transpose(X),Y))\n",
        "q = int(input())\n",
        "\n",
        "for i in range(q):\n",
        "  data_new = list(map(float,input().split()))\n",
        "  X_new.append([1]+data_new[:m])\n",
        "\n",
        "X_new = np.array(X_new,float)\n",
        "Y_new = np.dot(X_new,b)\n",
        "\n",
        "for i in Y_new:\n",
        "  print(round(float(i),2))\n",
        "\n",
        "\n",
        "\n",
        "\n",
        "\n",
        "\n"
      ],
      "execution_count": null,
      "outputs": [
        {
          "output_type": "stream",
          "name": "stdout",
          "text": [
            "2 7\n",
            "0.18 0.89 109.85\n",
            "1.0 0.26 155.72\n",
            "0.92 0.11 137.66\n",
            "0.07 0.37 76.17\n",
            "0.85 0.16 139.75\n",
            "0.99 0.41 162.6\n",
            "0.87 0.47 151.77\n",
            "4\n",
            "0.49 0.18\n",
            "0.57 0.83\n",
            "0.56 0.64\n",
            "0.76 0.18\n",
            "105.21\n",
            "142.67\n",
            "132.94\n",
            "129.7\n"
          ]
        }
      ]
    },
    {
      "cell_type": "code",
      "metadata": {
        "id": "Dl1rWBTaa0MP"
      },
      "source": [
        "test =  np.array(X,float)"
      ],
      "execution_count": null,
      "outputs": []
    },
    {
      "cell_type": "code",
      "metadata": {
        "colab": {
          "base_uri": "https://localhost:8080/"
        },
        "id": "2qb4-fqnqPmr",
        "outputId": "d0ec2724-7362-41d6-d0b8-08accd9ba14f"
      },
      "source": [
        "for i in Y_new:\n",
        "  print(i)"
      ],
      "execution_count": null,
      "outputs": [
        {
          "output_type": "stream",
          "name": "stdout",
          "text": [
            "[105.21455835]\n",
            "[142.67095131]\n",
            "[132.93605469]\n",
            "[129.70175405]\n"
          ]
        }
      ]
    }
  ]
}